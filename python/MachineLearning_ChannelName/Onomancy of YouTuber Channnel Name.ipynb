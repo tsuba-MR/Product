{
 "cells": [
  {
   "cell_type": "code",
   "execution_count": 1,
   "metadata": {},
   "outputs": [
    {
     "name": "stdout",
     "output_type": "stream",
     "text": [
      "12\n"
     ]
    }
   ],
   "source": [
    "\"\"\"\n",
    "動作概要\n",
    "ユーチュラというサイトの情報を収集する\n",
    "\"\"\"\n",
    "import requests\n",
    "import datetime\n",
    "import time\n",
    "\n",
    "dt_now  = datetime.datetime.now()\n",
    "\n",
    "year = str(dt_now.year)\n",
    "month = str(dt_now.month).zfill(2)#一桁付きは0を先頭につける\n",
    "print(month)\n",
    "\n",
    "\n",
    "#ユーチュラのランキング最後尾まで集める。日々増加するので適宜更新\n",
    "end_page = 2000\n",
    "\n",
    "\n",
    "#end_pageまでデータを集める\n",
    "#ファイル名は4桁になるように指定して、各ページのソースコードを保存する\n",
    "for i in range(1,end_page):\n",
    "    time.sleep(1)\n",
    "    if i != 1:\n",
    "        get_url_info = requests.get('https://ytranking.net/ranking/?p={0}&mode=view&date={1}{2}'.format(i,year,month))\n",
    "    else:\n",
    "        get_url_info = requests.get('https://ytranking.net/ranking/?mode=view&date={0}{1}'.format(year,month))\n",
    "    fname = str(i).zfill(4)\n",
    "    with open('ytbrank_str/{}.txt'.format(fname),'wb')as file:\n",
    "        for chunk in get_url_info.iter_content(4029):\n",
    "            file.write(chunk)\n",
    "          "
   ]
  },
  {
   "cell_type": "code",
   "execution_count": 2,
   "metadata": {},
   "outputs": [
    {
     "name": "stdout",
     "output_type": "stream",
     "text": [
      "done\n"
     ]
    }
   ],
   "source": [
    "\"\"\"\n",
    "動作概要\n",
    "チャンネル名を含む行のみ抜き取り、不要な情報を取り除く。チャンネル名のみの情報をcsvにまとめる\n",
    "\"\"\"\n",
    "import csv\n",
    "import numpy as np\n",
    "import pandas as pd\n",
    "import glob\n",
    "import os\n",
    "import re\n",
    "import datetime\n",
    "\n",
    "\n",
    "dt_now  = datetime.datetime.now()\n",
    "month = str(dt_now.month).zfill(2)#一桁付きは0を先頭につける\n",
    "vn = []\n",
    "\n",
    "#ソースコードを保存したディレクトリのパス名\n",
    "path = \"C:\\\\\"#指定したディレクトリに保存\n",
    "    \n",
    "files = os.listdir(path)\n",
    "#編集無しでnameファイルを作成する。\n",
    "for filename in files:\n",
    "    s = os.path.splitext(os.path.basename(filename))[0]\n",
    "    #print(\"ファイルの名前は%s\"%(s))\n",
    "    with open(\"{0}{1}.txt\".format(path,s),encoding=\"utf-8\")as f:\n",
    "        line = f.readlines()#行リスト\n",
    "        for i in range(len(line)):\n",
    "            if '<p><i class=\"material-icons\" title=\"チャンネル登録者数\"' in line[i]:\n",
    "                vn.append(line[i-1])\n",
    "        vn2 = [x.lstrip('\\t<p class=\"title\">') for x in vn]\n",
    "        vn3 = [x.rstrip('</p>\\t<aside>\\n') for x in vn2]\n",
    "        \n",
    "df = pd.DataFrame(index=vn3)\n",
    "df.to_csv('kakasi_csv_only_name_ytb_str_{}.csv'.format(month),encoding=\"utf_8_sig\")\n",
    "print(\"done\")"
   ]
  },
  {
   "cell_type": "code",
   "execution_count": 3,
   "metadata": {},
   "outputs": [
    {
     "name": "stdout",
     "output_type": "stream",
     "text": [
      "name:[\"Fischer's-フィッシャーズ-\" 'キッズライン♡Kids Lin' '東海オンエア' ... 'じーじー' '抹茶らて'\n",
      " 'Save the children']\n",
      "6868番目のnanがうまくできませんでした\n",
      "13276番目のnanがうまくできませんでした\n",
      "19563番目のnanがうまくできませんでした\n",
      "29385番目のnanがうまくできませんでした\n",
      "30213番目のnanがうまくできませんでした\n",
      "30357番目のnanがうまくできませんでした\n",
      "34580番目のnanがうまくできませんでした\n",
      "done\n"
     ]
    }
   ],
   "source": [
    "\"\"\"\n",
    "動作概要\n",
    "チャンネル名をすべて小文字アルファベットに統一し、アルファベットの出現回数をカウントする\n",
    "動作不良となるチャンネル名が存在するため、そういったチャンネルは例外処理で省く\n",
    "\"\"\"\n",
    "import pandas as pd\n",
    "import datetime\n",
    "from pykakasi import kakasi\n",
    "\n",
    "dt_now  = datetime.datetime.now()\n",
    "month = str(dt_now.month).zfill(2)#一桁付きは0を先頭につける\n",
    "\n",
    "#日本語変換用\n",
    "kakasi = kakasi()\n",
    "kakasi.setMode('H', 'a')\n",
    "kakasi.setMode('K', 'a')\n",
    "kakasi.setMode('J', 'a')\n",
    "\n",
    "conv = kakasi.getConverter()\n",
    "\n",
    "df = pd.read_csv('kakasi_csv_only_name_ytb_str_{}.csv'.format(month),index_col=0)\n",
    "\n",
    "#リスト作成\n",
    "#nameリストを作成。name[i]で指定できる\n",
    "name = df.index.values\n",
    "print(\"name:{}\".format(name))\n",
    "length = []\n",
    "alphabet = []\n",
    "\n",
    "#アルファベットリスト作成用\n",
    "for i in range(97, 123):\n",
    "    alphabet.append(chr(i))\n",
    "\n",
    "#bag-of-alphabet2次元リスト作成\n",
    "boa = [[0]*len(alphabet) for l in range(len(name))]\n",
    "\n",
    "\n",
    "for i in range(len(name)):#行\n",
    "    try:\n",
    "        v = conv.do(name[i]).lower()#小文字にそろえる\n",
    "    except TypeError:\n",
    "        print(\"{0}番目の{1}がうまくできませんでした\".format(i,name[i]))\n",
    "        pass\n",
    "    v2 = v.replace(\" \",\"\")#空欄あったら削除\n",
    "    v3 = v2.replace(\".\",\"\")#空欄あったら削除\n",
    "    length.append(len(v3))#文字の長さリストに各VTuberの長さを入れる\n",
    "    chl = list(v3)#アルファベット分割\n",
    "    for j in range(len(chl)):#列\n",
    "        for k in range(len(alphabet)):#名前のアルファベット出現回数\n",
    "            if chl[j] == alphabet[k]:#名前のアルファベットが存在した分だけ\n",
    "                boa[i][k] += 1#アルファベット出現回数を1増加させる\n",
    "\n",
    "\n",
    "df2 = pd.DataFrame(boa, index=name, columns=alphabet)\n",
    "df2.insert(0,\"Length\",length)#文字数カウントを追加\n",
    "df2\n",
    "df2.to_csv('kakasi_vector_name_ytb_str_{}.csv'.format(month),encoding=\"utf_8_sig\")\n",
    "\n",
    "print(\"done\")"
   ]
  },
  {
   "cell_type": "code",
   "execution_count": 4,
   "metadata": {},
   "outputs": [],
   "source": [
    "\"\"\"\n",
    "動作概要\n",
    "作成したデータセットを使って機械学習を行い、5交差検証で正解率とF値を算出する\n",
    "元のデータセットから上1万行、下１万行を抽出して学習させる\n",
    "データセットの正規化処理とパラメータチューニングの組み合わせが、\n",
    "生の出現頻度×チューニングなし\n",
    "が最もスコアが高かったため、この組み合わせを継続して値を確認している\n",
    "\"\"\"\n",
    "#ライブラリのインポート\n",
    "import xgboost as xgb\n",
    "from sklearn import model_selection\n",
    "#ハイパーパラメータ探索のため、ランダムサーチ\n",
    "from sklearn.model_selection import RandomizedSearchCV\n",
    "from scipy import stats\n",
    "#評価関係\n",
    "from sklearn import metrics\n",
    "from sklearn.metrics import confusion_matrix, classification_report,make_scorer,accuracy_score,f1_score,matthews_corrcoef\n",
    "#データ分割用\n",
    "from sklearn.model_selection import train_test_split,StratifiedKFold,cross_validate\n",
    "from sklearn.utils.fixes import loguniform\n",
    "#データを扱うためのpandas\n",
    "import pandas as pd\n",
    "import scipy as sp\n",
    "import numpy as np\n",
    "#時間計測\n",
    "import time\n",
    "import pprint\n",
    "import matplotlib.pyplot as plt\n",
    "%matplotlib inline"
   ]
  },
  {
   "cell_type": "code",
   "execution_count": 18,
   "metadata": {},
   "outputs": [],
   "source": [
    "#特徴ベクトルを整理\n",
    "import datetime\n",
    "dt_now  = datetime.datetime.now()\n",
    "month = str(dt_now.month).zfill(2)#一桁付きは0を先頭につける\n",
    "\n",
    "df = pd.read_csv(\"kakasi_vector_name_ytb_str_{}.csv\".format(month),index_col=0)\n",
    "\n",
    "#上下10000個だけ抽出\n",
    "df_head=df[0:10000]\n",
    "df_tail=df[-10001:-1]\n",
    "df_marge=pd.concat([df_head,df_tail])\n",
    "df_marge\n",
    "df=df_marge"
   ]
  },
  {
   "cell_type": "code",
   "execution_count": 22,
   "metadata": {},
   "outputs": [
    {
     "data": {
      "text/plain": [
       "(array([1.8408e+04, 0.0000e+00, 1.3670e+03, 0.0000e+00, 0.0000e+00,\n",
       "        1.9800e+02, 0.0000e+00, 2.1000e+01, 0.0000e+00, 6.0000e+00]),\n",
       " array([0. , 0.4, 0.8, 1.2, 1.6, 2. , 2.4, 2.8, 3.2, 3.6, 4. ]),\n",
       " <a list of 10 Patch objects>)"
      ]
     },
     "execution_count": 22,
     "metadata": {},
     "output_type": "execute_result"
    },
    {
     "data": {
      "image/png": "[encoded data removed]",
      "text/plain": [
       "<Figure size 432x288 with 1 Axes>"
      ]
     },
     "metadata": {
      "needs_background": "light"
     },
     "output_type": "display_data"
    }
   ],
   "source": [
    "#ラベル付け。半分で分けて0,1でつける\n",
    "a = len(df)#行の長さを取得\n",
    "if(a % 2 == 0):\n",
    "    label = [0]* int(a/2) + [1] * int(a/2)\n",
    "else:\n",
    "    label = [0]* int(a/2 + 1) + [1] * int(a/2)\n",
    "\n",
    "#X1 = df.drop(\"Length\",axis=1)\n",
    "y = label\n",
    "\n",
    "X1\n",
    "\n",
    "#正規化なし\n",
    "#X=X1\n",
    "#ベクトル正規化\n",
    "X = X1.apply(lambda x:x/np.sqrt(sum(x**2)), axis=1)\n",
    "\n",
    "#0-1正規化\n",
    "#X= ((X1.T - X1.T.min()) / (X1.T.max() - X1.T.min())).T\n",
    "\n",
    "\n",
    "X_train, X_test, y_train, y_test = train_test_split(X, y, test_size=0.3, random_state=0)\n",
    "\n",
    "X1.describe()\n",
    "plt.hist(X1[\"w\"])\n",
    "#X.to_csv(\"kakasi_ex_11.csv\",encoding=\"utf-8\")"
   ]
  },
  {
   "cell_type": "code",
   "execution_count": 23,
   "metadata": {},
   "outputs": [
    {
     "name": "stdout",
     "output_type": "stream",
     "text": [
      "5交差検証の結果\n",
      "{'fit_time': array([1.71338916, 1.71382046, 1.69342732, 1.73043537, 1.76197362]),\n",
      " 'score_time': array([0.01562095, 0.01562572, 0.01558304, 0.02103734, 0.01566148]),\n",
      " 'test_accuracy': array([0.5425 , 0.5405 , 0.5455 , 0.53725, 0.53975]),\n",
      " 'test_f1_score': array([0.58522212, 0.58622242, 0.58681818, 0.58692256, 0.5725563 ])}\n",
      "Time : 10.823177576065063\n"
     ]
    }
   ],
   "source": [
    "#5交差検証\n",
    "start = time.time()\n",
    "\n",
    "y_true = []\n",
    "\n",
    "\n",
    "#学習\n",
    "clf = xgb.XGBClassifier()\n",
    "clf.fit(X,y)\n",
    "\n",
    "kf = StratifiedKFold(n_splits=5,shuffle=True,random_state=0)\n",
    "\n",
    "scoring={\n",
    "    \"accuracy\":make_scorer(accuracy_score),\n",
    "    \"f1_score\":make_scorer(f1_score)\n",
    "}    \n",
    "    \n",
    "scores_kf = cross_validate(clf,X,y,cv=kf,n_jobs=1,scoring = scoring)\n",
    "\n",
    "print(\"5交差検証の結果\")\n",
    "pprint.pprint(scores_kf)\n",
    "    \n",
    "    \n",
    "elapsed_time = time.time() - start\n",
    "print(f'Time : {elapsed_time}')"
   ]
  },
  {
   "cell_type": "code",
   "execution_count": null,
   "metadata": {},
   "outputs": [],
   "source": []
  }
 ],
 "metadata": {
  "kernelspec": {
   "display_name": "Python 3",
   "language": "python",
   "name": "python3"
  },
  "language_info": {
   "codemirror_mode": {
    "name": "ipython",
    "version": 3
   },
   "file_extension": ".py",
   "mimetype": "text/x-python",
   "name": "python",
   "nbconvert_exporter": "python",
   "pygments_lexer": "ipython3",
   "version": "3.8.3"
  }
 },
 "nbformat": 4,
 "nbformat_minor": 4
}
